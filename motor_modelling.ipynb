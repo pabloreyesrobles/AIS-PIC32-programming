{
 "cells": [
  {
   "cell_type": "markdown",
   "metadata": {},
   "source": [
    "# Motor model and control\n",
    "AIS Team, 2018"
   ]
  },
  {
   "cell_type": "markdown",
   "metadata": {},
   "source": [
    "On this notebook we applied a discrete PID control on our DC motor model, expecting to get similar results in real wheel."
   ]
  },
  {
   "cell_type": "code",
   "execution_count": 6,
   "metadata": {},
   "outputs": [
    {
     "data": {
      "text/plain": [
       "(array([[  0.00000000e+00,   2.00865636e-01,   5.62782721e-62]]),\n",
       " array([  1.00000000e+000,  -6.94767283e-060,   3.84008151e-135]),\n",
       " 0.0625)"
      ]
     },
     "execution_count": 6,
     "metadata": {},
     "output_type": "execute_result"
    }
   ],
   "source": [
    "import numpy as np\n",
    "from scipy import signal\n",
    "\n",
    "J = 9.25*pow(10,-7)   #kgm^2\n",
    "b = 52.029*pow(10,-3) #Nms\n",
    "L = 0.00224           #H\n",
    "R = 4.83              #ohm\n",
    "Ke = 0.051            #V/rad/sec\n",
    "Kt = 0.051            #Nm/A\n",
    "\n",
    "Ts = 0.0625\n",
    "\n",
    "#Continuous transfer function\n",
    "#           K\n",
    "#(Js + b)(Ls + R) + K^2\n",
    "\n",
    "discrete_tf = signal.cont2discrete(([Kt], [J*L, J*R + b*L, b*R + Ke*Kt]), Ts, \"zoh\")\n",
    "discrete_tf"
   ]
  },
  {
   "cell_type": "code",
   "execution_count": null,
   "metadata": {
    "collapsed": true
   },
   "outputs": [],
   "source": []
  }
 ],
 "metadata": {
  "kernelspec": {
   "display_name": "Python 2",
   "language": "python",
   "name": "python2"
  },
  "language_info": {
   "codemirror_mode": {
    "name": "ipython",
    "version": 2
   },
   "file_extension": ".py",
   "mimetype": "text/x-python",
   "name": "python",
   "nbconvert_exporter": "python",
   "pygments_lexer": "ipython2",
   "version": "2.7.14"
  }
 },
 "nbformat": 4,
 "nbformat_minor": 2
}
